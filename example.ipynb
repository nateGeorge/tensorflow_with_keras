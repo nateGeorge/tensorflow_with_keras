{
 "cells": [
  {
   "cell_type": "markdown",
   "metadata": {},
   "source": [
    "from here: https://github.com/keras-team/keras/blob/master/examples/mnist_cnn.py"
   ]
  },
  {
   "cell_type": "markdown",
   "metadata": {},
   "source": [
    "https://blog.keras.io/keras-as-a-simplified-interface-to-tensorflow-tutorial.html#using-keras-models-with-tensorflow\n",
    "\n",
    "https://github.com/keras-team/keras/issues/5427\n",
    "    "
   ]
  },
  {
   "cell_type": "code",
   "execution_count": 1,
   "metadata": {},
   "outputs": [
    {
     "name": "stderr",
     "output_type": "stream",
     "text": [
      "Using TensorFlow backend.\n"
     ]
    }
   ],
   "source": [
    "'''Trains a simple convnet on the MNIST dataset.\n",
    "\n",
    "Gets to 99.25% test accuracy after 12 epochs\n",
    "(there is still a lot of margin for parameter tuning).\n",
    "16 seconds per epoch on a GRID K520 GPU.\n",
    "'''\n",
    "\n",
    "from __future__ import print_function\n",
    "import keras\n",
    "from keras.datasets import mnist\n",
    "from keras.models import Sequential\n",
    "from keras.layers import Dense, Dropout, Flatten\n",
    "from keras.layers import Conv2D, MaxPooling2D\n",
    "from keras import backend as K\n",
    "import tensorflow as tf\n",
    "import numpy as np"
   ]
  },
  {
   "cell_type": "code",
   "execution_count": 2,
   "metadata": {},
   "outputs": [
    {
     "name": "stdout",
     "output_type": "stream",
     "text": [
      "x_train shape: (60000, 28, 28, 1)\n",
      "60000 train samples\n",
      "10000 test samples\n"
     ]
    }
   ],
   "source": [
    "batch_size = 128\n",
    "num_classes = 10\n",
    "epochs = 12\n",
    "\n",
    "# input image dimensions\n",
    "img_rows, img_cols = 28, 28\n",
    "\n",
    "# the data, split between train and test sets\n",
    "(x_train, y_train), (x_test, y_test) = mnist.load_data()\n",
    "\n",
    "if K.image_data_format() == 'channels_first':\n",
    "    x_train = x_train.reshape(x_train.shape[0], 1, img_rows, img_cols)\n",
    "    x_test = x_test.reshape(x_test.shape[0], 1, img_rows, img_cols)\n",
    "    input_shape = (1, img_rows, img_cols)\n",
    "else:\n",
    "    x_train = x_train.reshape(x_train.shape[0], img_rows, img_cols, 1)\n",
    "    x_test = x_test.reshape(x_test.shape[0], img_rows, img_cols, 1)\n",
    "    input_shape = (img_rows, img_cols, 1)\n",
    "\n",
    "x_train = x_train.astype('float32')\n",
    "x_test = x_test.astype('float32')\n",
    "x_train /= 255\n",
    "x_test /= 255\n",
    "print('x_train shape:', x_train.shape)\n",
    "print(x_train.shape[0], 'train samples')\n",
    "print(x_test.shape[0], 'test samples')\n",
    "\n",
    "# convert class vectors to binary class matrices\n",
    "y_train = keras.utils.to_categorical(y_train, num_classes)\n",
    "y_test = keras.utils.to_categorical(y_test, num_classes)\n",
    "\n",
    "model = Sequential()\n",
    "model.add(Conv2D(32, kernel_size=(3, 3),\n",
    "                 activation='relu',\n",
    "                 input_shape=input_shape))\n",
    "model.add(Conv2D(64, (3, 3), activation='relu'))\n",
    "model.add(MaxPooling2D(pool_size=(2, 2)))\n",
    "model.add(Dropout(0.25))\n",
    "model.add(Flatten())\n",
    "model.add(Dense(128, activation='relu'))\n",
    "model.add(Dropout(0.5))\n",
    "model.add(Dense(num_classes, activation='softmax'))\n",
    "\n",
    "\n",
    "def cohens_kappa(y_true, y_pred):\n",
    "    y_true_classes = tf.argmax(y_true, 1)\n",
    "    y_pred_classes = tf.argmax(y_pred, 1)\n",
    "    return tf.contrib.metrics.cohen_kappa(y_true_classes, y_pred_classes, 10)[1]\n",
    "\n",
    "\n",
    "def tf_accuracy(y_true, y_pred):\n",
    "    y_true_classes = tf.argmax(y_true, 1)\n",
    "    y_pred_classes = tf.argmax(y_pred, 1)\n",
    "    # preds and targets are switched in tf.contrib.metrics.accuracy\n",
    "    return tf.contrib.metrics.accuracy(y_pred_classes, y_true_classes)\n",
    "    \n",
    "\n",
    "model.compile(loss=keras.losses.categorical_crossentropy,\n",
    "              optimizer=keras.optimizers.Adadelta(),\n",
    "              metrics=['accuracy', cohens_kappa, tf_accuracy])"
   ]
  },
  {
   "cell_type": "code",
   "execution_count": 3,
   "metadata": {},
   "outputs": [
    {
     "name": "stdout",
     "output_type": "stream",
     "text": [
      "Train on 60000 samples, validate on 10000 samples\n",
      "Epoch 1/12\n",
      "60000/60000 [==============================] - 5s 90us/step - loss: 0.2686 - acc: 0.9177 - cohens_kappa: 0.8037 - tf_accuracy: 0.9177 - val_loss: 0.0635 - val_acc: 0.9795 - val_cohens_kappa: 0.9134 - val_tf_accuracy: 0.9795\n",
      "Epoch 2/12\n",
      "60000/60000 [==============================] - 4s 68us/step - loss: 0.0916 - acc: 0.9725 - cohens_kappa: 0.9318 - tf_accuracy: 0.9725 - val_loss: 0.0397 - val_acc: 0.9858 - val_cohens_kappa: 0.9434 - val_tf_accuracy: 0.9858\n",
      "Epoch 3/12\n",
      "60000/60000 [==============================] - 4s 69us/step - loss: 0.0681 - acc: 0.9800 - cohens_kappa: 0.9504 - tf_accuracy: 0.9800 - val_loss: 0.0436 - val_acc: 0.9846 - val_cohens_kappa: 0.9554 - val_tf_accuracy: 0.9846\n",
      "Epoch 4/12\n",
      "60000/60000 [==============================] - 4s 68us/step - loss: 0.0540 - acc: 0.9835 - cohens_kappa: 0.9592 - tf_accuracy: 0.9835 - val_loss: 0.0328 - val_acc: 0.9899 - val_cohens_kappa: 0.9623 - val_tf_accuracy: 0.9899\n",
      "Epoch 5/12\n",
      "60000/60000 [==============================] - 4s 69us/step - loss: 0.0459 - acc: 0.9862 - cohens_kappa: 0.9649 - tf_accuracy: 0.9862 - val_loss: 0.0275 - val_acc: 0.9910 - val_cohens_kappa: 0.9669 - val_tf_accuracy: 0.9910\n",
      "Epoch 6/12\n",
      "60000/60000 [==============================] - 4s 70us/step - loss: 0.0416 - acc: 0.9874 - cohens_kappa: 0.9687 - tf_accuracy: 0.9874 - val_loss: 0.0297 - val_acc: 0.9905 - val_cohens_kappa: 0.9702 - val_tf_accuracy: 0.9905\n",
      "Epoch 7/12\n",
      "60000/60000 [==============================] - 4s 68us/step - loss: 0.0399 - acc: 0.9882 - cohens_kappa: 0.9716 - tf_accuracy: 0.9882 - val_loss: 0.0302 - val_acc: 0.9895 - val_cohens_kappa: 0.9727 - val_tf_accuracy: 0.9895\n",
      "Epoch 8/12\n",
      "60000/60000 [==============================] - 4s 67us/step - loss: 0.0343 - acc: 0.9899 - cohens_kappa: 0.9738 - tf_accuracy: 0.9899 - val_loss: 0.0255 - val_acc: 0.9911 - val_cohens_kappa: 0.9747 - val_tf_accuracy: 0.9911\n",
      "Epoch 9/12\n",
      "60000/60000 [==============================] - 4s 67us/step - loss: 0.0317 - acc: 0.9903 - cohens_kappa: 0.9756 - tf_accuracy: 0.9903 - val_loss: 0.0230 - val_acc: 0.9927 - val_cohens_kappa: 0.9764 - val_tf_accuracy: 0.9927\n",
      "Epoch 10/12\n",
      "60000/60000 [==============================] - 4s 67us/step - loss: 0.0297 - acc: 0.9903 - cohens_kappa: 0.9771 - tf_accuracy: 0.9903 - val_loss: 0.0276 - val_acc: 0.9916 - val_cohens_kappa: 0.9777 - val_tf_accuracy: 0.9916\n",
      "Epoch 11/12\n",
      "60000/60000 [==============================] - 4s 70us/step - loss: 0.0286 - acc: 0.9908 - cohens_kappa: 0.9783 - tf_accuracy: 0.9908 - val_loss: 0.0245 - val_acc: 0.9922 - val_cohens_kappa: 0.9788 - val_tf_accuracy: 0.9922\n",
      "Epoch 12/12\n",
      "60000/60000 [==============================] - 4s 71us/step - loss: 0.0260 - acc: 0.9920 - cohens_kappa: 0.9794 - tf_accuracy: 0.9920 - val_loss: 0.0263 - val_acc: 0.9918 - val_cohens_kappa: 0.9799 - val_tf_accuracy: 0.9918\n",
      "Test loss: 0.02634658185890321\n",
      "Test accuracy: 0.9918\n"
     ]
    }
   ],
   "source": [
    "# tensorflow variables need to be initialized before calling model.fit()\n",
    "# with tf.Session() as sess:\n",
    "# K.get_session().run(tf.global_variables_initializer())\n",
    "K.get_session().run(tf.local_variables_initializer())\n",
    "\n",
    "model.fit(x_train, y_train,\n",
    "          batch_size=batch_size,\n",
    "          epochs=epochs,\n",
    "          verbose=1,\n",
    "          validation_data=(x_test, y_test))\n",
    "\n",
    "score = model.evaluate(x_test, y_test, verbose=0)\n",
    "print('Test loss:', score[0])\n",
    "print('Test accuracy:', score[1])"
   ]
  },
  {
   "cell_type": "code",
   "execution_count": 4,
   "metadata": {},
   "outputs": [
    {
     "data": {
      "text/plain": [
       "0.33333333333333337"
      ]
     },
     "execution_count": 4,
     "metadata": {},
     "output_type": "execute_result"
    }
   ],
   "source": [
    "# confirming the correct kappa score for debugging\n",
    "from sklearn.metrics import cohen_kappa_score\n",
    "\n",
    "cohen_kappa_score(np.array([1, 2]), np.array([0, 2]))"
   ]
  },
  {
   "cell_type": "code",
   "execution_count": 5,
   "metadata": {},
   "outputs": [
    {
     "name": "stdout",
     "output_type": "stream",
     "text": [
      "[[0 1 0]\n",
      " [0 0 1]] \n",
      "\n",
      "[1 2] \n",
      "\n",
      "[0 2] \n",
      "\n",
      "0.3333333333333333\n"
     ]
    }
   ],
   "source": [
    "# Here are some examples of tensorflow debugging\n",
    "\n",
    "sess = tf.Session()\n",
    "\n",
    "# K.get_session().run(tf.local_variables_initializer())\n",
    "# K.get_session().run(tf.global_variables_initializer())\n",
    "\n",
    "yt_tens = tf.convert_to_tensor(np.array([[0, 1, 0], [0, 0, 1]]))\n",
    "yp_tens = tf.convert_to_tensor(np.array([[1, 0, 0], [0, 0, 1]]))\n",
    "\n",
    "wh = tf.where(tf.equal(yt_tens, 1))[:, 1]\n",
    "wh2 = tf.where(tf.equal(yp_tens, 1))[:, 1]\n",
    "print(sess.run(yt_tens), '\\n')\n",
    "print(sess.run(wh), '\\n')\n",
    "print(sess.run(wh2), '\\n')\n",
    "\n",
    "# returns the value and an update_op object.  The update_op object appears to have the correct value;\n",
    "# the other one seems to be 0.\n",
    "ck = tf.contrib.metrics.cohen_kappa(tf.where(tf.equal(yt_tens, 1))[:, 1],\n",
    "                                    tf.where(tf.equal(yp_tens, 1))[:, 1],\n",
    "                                    10)[1]\n",
    "\n",
    "# need to initialize vars for cohens kappa\n",
    "# needs to be run after creating cohens kappa line\n",
    "sess.run(tf.global_variables_initializer())\n",
    "sess.run(tf.local_variables_initializer())\n",
    "\n",
    "# should match the cohens kappa calc from sklearn above\n",
    "print(sess.run(ck))"
   ]
  }
 ],
 "metadata": {
  "kernelspec": {
   "display_name": "Python 3",
   "language": "python",
   "name": "python3"
  },
  "language_info": {
   "codemirror_mode": {
    "name": "ipython",
    "version": 3
   },
   "file_extension": ".py",
   "mimetype": "text/x-python",
   "name": "python",
   "nbconvert_exporter": "python",
   "pygments_lexer": "ipython3",
   "version": "3.6.8"
  }
 },
 "nbformat": 4,
 "nbformat_minor": 2
}
